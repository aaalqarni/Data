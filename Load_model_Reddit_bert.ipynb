{
  "nbformat": 4,
  "nbformat_minor": 0,
  "metadata": {
    "colab": {
      "name": "Load_model_Reddit_bert.ipynb",
      "provenance": [],
      "collapsed_sections": [],
      "machine_shape": "hm",
      "include_colab_link": true
    },
    "kernelspec": {
      "name": "python3",
      "display_name": "Python 3"
    },
    "accelerator": "GPU"
  },
  "cells": [
    {
      "cell_type": "markdown",
      "metadata": {
        "id": "view-in-github",
        "colab_type": "text"
      },
      "source": [
        "<a href=\"https://colab.research.google.com/github/aaalqarni/Data-/blob/master/Load_model_Reddit_bert.ipynb\" target=\"_parent\"><img src=\"https://colab.research.google.com/assets/colab-badge.svg\" alt=\"Open In Colab\"/></a>"
      ]
    },
    {
      "cell_type": "code",
      "metadata": {
        "id": "GOJHvvL_gkPD",
        "outputId": "0128133b-e186-48d0-e861-6a9909f9ea41",
        "colab": {
          "base_uri": "https://localhost:8080/",
          "height": 34
        }
      },
      "source": [
        "from google.colab import drive \n",
        "\n",
        "drive.mount('/content/drive')"
      ],
      "execution_count": 4,
      "outputs": [
        {
          "output_type": "stream",
          "text": [
            "Mounted at /content/drive\n"
          ],
          "name": "stdout"
        }
      ]
    },
    {
      "cell_type": "code",
      "metadata": {
        "id": "w6kzXGuOTjQY",
        "outputId": "67321ad6-b487-4808-9bc2-cbc6332d257a",
        "colab": {
          "base_uri": "https://localhost:8080/",
          "height": 34
        }
      },
      "source": [
        "! ls"
      ],
      "execution_count": 5,
      "outputs": [
        {
          "output_type": "stream",
          "text": [
            "drive  sample_data\n"
          ],
          "name": "stdout"
        }
      ]
    },
    {
      "cell_type": "code",
      "metadata": {
        "id": "8xgawrStij8k",
        "outputId": "ddbb5803-434a-4c42-d1e4-d387203373c0",
        "colab": {
          "base_uri": "https://localhost:8080/",
          "height": 34
        }
      },
      "source": [
        "%cd /content/drive/My Drive/group-5/Sarcasm/Dataset/Sarc_reddit_Khodak/\n",
        "\n"
      ],
      "execution_count": 6,
      "outputs": [
        {
          "output_type": "stream",
          "text": [
            "/content/drive/.shortcut-targets-by-id/18jkhFxxAIhP43KeQN-eCjSicYYbVyecy/group-5/Sarcasm/Dataset/Sarc_reddit_Khodak\n"
          ],
          "name": "stdout"
        }
      ]
    },
    {
      "cell_type": "code",
      "metadata": {
        "id": "1uVOeslPi32F"
      },
      "source": [
        "! cd .."
      ],
      "execution_count": 7,
      "outputs": []
    },
    {
      "cell_type": "code",
      "metadata": {
        "id": "lNFVUgQpUNjr",
        "outputId": "ad22c1dd-007d-4065-bbe4-94b9b799231a",
        "colab": {
          "base_uri": "https://localhost:8080/",
          "height": 425
        }
      },
      "source": [
        "! ls "
      ],
      "execution_count": 8,
      "outputs": [
        {
          "output_type": "stream",
          "text": [
            " 1309_36545_compressed_train-balanced-sarcasm.csv.zip\n",
            " authors.json\n",
            " authors.json.bz2\n",
            " Final_result.csv\n",
            " main\n",
            " model_reddit_cased_save\n",
            " model_reddit_cased_save_02\n",
            " model_REDDIT_large_cased_save\n",
            " model_REDDIT_save\n",
            " Multinomial_logit_Sarcasm.pkl\n",
            " Multinomial_Naive_Bayes.pkl\n",
            " Random_forest.pkl\n",
            "'readme (1).gdoc'\n",
            " readme.gdoc\n",
            " readme.txt\n",
            " Reddit_bert_model\n",
            " sarcasm_reddit_bert_model\n",
            " sarcasm_reddit_bert_model_02\n",
            " stats.json\n",
            " stats.json.bz2\n",
            " SVM.pkl\n",
            " test-balanced.csv\n",
            " test-balanced-sarcasm.csv\n",
            " train-balanced-sarcasm.csv\n"
          ],
          "name": "stdout"
        }
      ]
    },
    {
      "cell_type": "code",
      "metadata": {
        "id": "pbygvpA6jC_d",
        "outputId": "106713f5-689d-4e9a-d75f-947ef0c6d043",
        "colab": {
          "base_uri": "https://localhost:8080/",
          "height": 51
        }
      },
      "source": [
        "import torch\n",
        "\n",
        "# If there's a GPU available...\n",
        "if torch.cuda.is_available():    \n",
        "\n",
        "    # Tell PyTorch to use the GPU.    \n",
        "    device = torch.device(\"cuda\")\n",
        "\n",
        "    print('There are %d GPU(s) available.' % torch.cuda.device_count())\n",
        "\n",
        "    print('We will use the GPU:', torch.cuda.get_device_name(0))\n",
        "\n",
        "# If not...\n",
        "else:\n",
        "    print('No GPU available, using the CPU instead.')\n",
        "    device = torch.device(\"cpu\")"
      ],
      "execution_count": 9,
      "outputs": [
        {
          "output_type": "stream",
          "text": [
            "There are 1 GPU(s) available.\n",
            "We will use the GPU: Tesla V100-SXM2-16GB\n"
          ],
          "name": "stdout"
        }
      ]
    },
    {
      "cell_type": "code",
      "metadata": {
        "id": "_Ti1waIzYW87"
      },
      "source": [
        "import json\n",
        "import pandas as pd \n",
        "import textwrap\n",
        "import seaborn as sns\n",
        "import matplotlib.pyplot as plt\n"
      ],
      "execution_count": 10,
      "outputs": []
    },
    {
      "cell_type": "code",
      "metadata": {
        "id": "zmBK3h8-X06Z"
      },
      "source": [
        "Data = pd.read_csv(\"train-balanced-sarcasm.csv\")\n",
        "Data['comment']= Data['comment'].astype(str)"
      ],
      "execution_count": 11,
      "outputs": []
    },
    {
      "cell_type": "code",
      "metadata": {
        "id": "jUguNiFZX9nc",
        "outputId": "8116bb00-d401-4dfc-d393-428f605dbbff",
        "colab": {
          "base_uri": "https://localhost:8080/",
          "height": 204
        }
      },
      "source": [
        "\n",
        "Data.head()\n",
        "\n"
      ],
      "execution_count": 12,
      "outputs": [
        {
          "output_type": "execute_result",
          "data": {
            "text/html": [
              "<div>\n",
              "<style scoped>\n",
              "    .dataframe tbody tr th:only-of-type {\n",
              "        vertical-align: middle;\n",
              "    }\n",
              "\n",
              "    .dataframe tbody tr th {\n",
              "        vertical-align: top;\n",
              "    }\n",
              "\n",
              "    .dataframe thead th {\n",
              "        text-align: right;\n",
              "    }\n",
              "</style>\n",
              "<table border=\"1\" class=\"dataframe\">\n",
              "  <thead>\n",
              "    <tr style=\"text-align: right;\">\n",
              "      <th></th>\n",
              "      <th>label</th>\n",
              "      <th>comment</th>\n",
              "      <th>author</th>\n",
              "      <th>subreddit</th>\n",
              "      <th>score</th>\n",
              "      <th>ups</th>\n",
              "      <th>downs</th>\n",
              "      <th>date</th>\n",
              "      <th>created_utc</th>\n",
              "      <th>parent_comment</th>\n",
              "    </tr>\n",
              "  </thead>\n",
              "  <tbody>\n",
              "    <tr>\n",
              "      <th>0</th>\n",
              "      <td>0</td>\n",
              "      <td>NC and NH.</td>\n",
              "      <td>Trumpbart</td>\n",
              "      <td>politics</td>\n",
              "      <td>2</td>\n",
              "      <td>-1</td>\n",
              "      <td>-1</td>\n",
              "      <td>2016-10</td>\n",
              "      <td>2016-10-16 23:55:23</td>\n",
              "      <td>Yeah, I get that argument. At this point, I'd ...</td>\n",
              "    </tr>\n",
              "    <tr>\n",
              "      <th>1</th>\n",
              "      <td>0</td>\n",
              "      <td>You do know west teams play against west teams...</td>\n",
              "      <td>Shbshb906</td>\n",
              "      <td>nba</td>\n",
              "      <td>-4</td>\n",
              "      <td>-1</td>\n",
              "      <td>-1</td>\n",
              "      <td>2016-11</td>\n",
              "      <td>2016-11-01 00:24:10</td>\n",
              "      <td>The blazers and Mavericks (The wests 5 and 6 s...</td>\n",
              "    </tr>\n",
              "    <tr>\n",
              "      <th>2</th>\n",
              "      <td>0</td>\n",
              "      <td>They were underdogs earlier today, but since G...</td>\n",
              "      <td>Creepeth</td>\n",
              "      <td>nfl</td>\n",
              "      <td>3</td>\n",
              "      <td>3</td>\n",
              "      <td>0</td>\n",
              "      <td>2016-09</td>\n",
              "      <td>2016-09-22 21:45:37</td>\n",
              "      <td>They're favored to win.</td>\n",
              "    </tr>\n",
              "    <tr>\n",
              "      <th>3</th>\n",
              "      <td>0</td>\n",
              "      <td>This meme isn't funny none of the \"new york ni...</td>\n",
              "      <td>icebrotha</td>\n",
              "      <td>BlackPeopleTwitter</td>\n",
              "      <td>-8</td>\n",
              "      <td>-1</td>\n",
              "      <td>-1</td>\n",
              "      <td>2016-10</td>\n",
              "      <td>2016-10-18 21:03:47</td>\n",
              "      <td>deadass don't kill my buzz</td>\n",
              "    </tr>\n",
              "    <tr>\n",
              "      <th>4</th>\n",
              "      <td>0</td>\n",
              "      <td>I could use one of those tools.</td>\n",
              "      <td>cush2push</td>\n",
              "      <td>MaddenUltimateTeam</td>\n",
              "      <td>6</td>\n",
              "      <td>-1</td>\n",
              "      <td>-1</td>\n",
              "      <td>2016-12</td>\n",
              "      <td>2016-12-30 17:00:13</td>\n",
              "      <td>Yep can confirm I saw the tool they use for th...</td>\n",
              "    </tr>\n",
              "  </tbody>\n",
              "</table>\n",
              "</div>"
            ],
            "text/plain": [
              "   label  ...                                     parent_comment\n",
              "0      0  ...  Yeah, I get that argument. At this point, I'd ...\n",
              "1      0  ...  The blazers and Mavericks (The wests 5 and 6 s...\n",
              "2      0  ...                            They're favored to win.\n",
              "3      0  ...                         deadass don't kill my buzz\n",
              "4      0  ...  Yep can confirm I saw the tool they use for th...\n",
              "\n",
              "[5 rows x 10 columns]"
            ]
          },
          "metadata": {
            "tags": []
          },
          "execution_count": 12
        }
      ]
    },
    {
      "cell_type": "code",
      "metadata": {
        "id": "uZPuFKtV3bam",
        "outputId": "01b60fa6-031f-4921-c6fd-06e0c93ca1ff",
        "colab": {
          "base_uri": "https://localhost:8080/",
          "height": 561
        }
      },
      "source": [
        "!pip install 'transformers==2.10'"
      ],
      "execution_count": 13,
      "outputs": [
        {
          "output_type": "stream",
          "text": [
            "Collecting transformers==2.10\n",
            "\u001b[?25l  Downloading https://files.pythonhosted.org/packages/12/b5/ac41e3e95205ebf53439e4dd087c58e9fd371fd8e3724f2b9b4cdb8282e5/transformers-2.10.0-py3-none-any.whl (660kB)\n",
            "\r\u001b[K     |▌                               | 10kB 24.5MB/s eta 0:00:01\r\u001b[K     |█                               | 20kB 6.3MB/s eta 0:00:01\r\u001b[K     |█▌                              | 30kB 7.3MB/s eta 0:00:01\r\u001b[K     |██                              | 40kB 7.4MB/s eta 0:00:01\r\u001b[K     |██▌                             | 51kB 6.8MB/s eta 0:00:01\r\u001b[K     |███                             | 61kB 7.5MB/s eta 0:00:01\r\u001b[K     |███▌                            | 71kB 8.3MB/s eta 0:00:01\r\u001b[K     |████                            | 81kB 8.6MB/s eta 0:00:01\r\u001b[K     |████▌                           | 92kB 8.1MB/s eta 0:00:01\r\u001b[K     |█████                           | 102kB 8.7MB/s eta 0:00:01\r\u001b[K     |█████▌                          | 112kB 8.7MB/s eta 0:00:01\r\u001b[K     |██████                          | 122kB 8.7MB/s eta 0:00:01\r\u001b[K     |██████▌                         | 133kB 8.7MB/s eta 0:00:01\r\u001b[K     |███████                         | 143kB 8.7MB/s eta 0:00:01\r\u001b[K     |███████▌                        | 153kB 8.7MB/s eta 0:00:01\r\u001b[K     |████████                        | 163kB 8.7MB/s eta 0:00:01\r\u001b[K     |████████▍                       | 174kB 8.7MB/s eta 0:00:01\r\u001b[K     |█████████                       | 184kB 8.7MB/s eta 0:00:01\r\u001b[K     |█████████▍                      | 194kB 8.7MB/s eta 0:00:01\r\u001b[K     |██████████                      | 204kB 8.7MB/s eta 0:00:01\r\u001b[K     |██████████▍                     | 215kB 8.7MB/s eta 0:00:01\r\u001b[K     |███████████                     | 225kB 8.7MB/s eta 0:00:01\r\u001b[K     |███████████▍                    | 235kB 8.7MB/s eta 0:00:01\r\u001b[K     |████████████                    | 245kB 8.7MB/s eta 0:00:01\r\u001b[K     |████████████▍                   | 256kB 8.7MB/s eta 0:00:01\r\u001b[K     |█████████████                   | 266kB 8.7MB/s eta 0:00:01\r\u001b[K     |█████████████▍                  | 276kB 8.7MB/s eta 0:00:01\r\u001b[K     |██████████████                  | 286kB 8.7MB/s eta 0:00:01\r\u001b[K     |██████████████▍                 | 296kB 8.7MB/s eta 0:00:01\r\u001b[K     |███████████████                 | 307kB 8.7MB/s eta 0:00:01\r\u001b[K     |███████████████▍                | 317kB 8.7MB/s eta 0:00:01\r\u001b[K     |███████████████▉                | 327kB 8.7MB/s eta 0:00:01\r\u001b[K     |████████████████▍               | 337kB 8.7MB/s eta 0:00:01\r\u001b[K     |████████████████▉               | 348kB 8.7MB/s eta 0:00:01\r\u001b[K     |█████████████████▍              | 358kB 8.7MB/s eta 0:00:01\r\u001b[K     |█████████████████▉              | 368kB 8.7MB/s eta 0:00:01\r\u001b[K     |██████████████████▍             | 378kB 8.7MB/s eta 0:00:01\r\u001b[K     |██████████████████▉             | 389kB 8.7MB/s eta 0:00:01\r\u001b[K     |███████████████████▍            | 399kB 8.7MB/s eta 0:00:01\r\u001b[K     |███████████████████▉            | 409kB 8.7MB/s eta 0:00:01\r\u001b[K     |████████████████████▍           | 419kB 8.7MB/s eta 0:00:01\r\u001b[K     |████████████████████▉           | 430kB 8.7MB/s eta 0:00:01\r\u001b[K     |█████████████████████▍          | 440kB 8.7MB/s eta 0:00:01\r\u001b[K     |█████████████████████▉          | 450kB 8.7MB/s eta 0:00:01\r\u001b[K     |██████████████████████▍         | 460kB 8.7MB/s eta 0:00:01\r\u001b[K     |██████████████████████▉         | 471kB 8.7MB/s eta 0:00:01\r\u001b[K     |███████████████████████▎        | 481kB 8.7MB/s eta 0:00:01\r\u001b[K     |███████████████████████▉        | 491kB 8.7MB/s eta 0:00:01\r\u001b[K     |████████████████████████▎       | 501kB 8.7MB/s eta 0:00:01\r\u001b[K     |████████████████████████▉       | 512kB 8.7MB/s eta 0:00:01\r\u001b[K     |█████████████████████████▎      | 522kB 8.7MB/s eta 0:00:01\r\u001b[K     |█████████████████████████▉      | 532kB 8.7MB/s eta 0:00:01\r\u001b[K     |██████████████████████████▎     | 542kB 8.7MB/s eta 0:00:01\r\u001b[K     |██████████████████████████▉     | 552kB 8.7MB/s eta 0:00:01\r\u001b[K     |███████████████████████████▎    | 563kB 8.7MB/s eta 0:00:01\r\u001b[K     |███████████████████████████▉    | 573kB 8.7MB/s eta 0:00:01\r\u001b[K     |████████████████████████████▎   | 583kB 8.7MB/s eta 0:00:01\r\u001b[K     |████████████████████████████▉   | 593kB 8.7MB/s eta 0:00:01\r\u001b[K     |█████████████████████████████▎  | 604kB 8.7MB/s eta 0:00:01\r\u001b[K     |█████████████████████████████▉  | 614kB 8.7MB/s eta 0:00:01\r\u001b[K     |██████████████████████████████▎ | 624kB 8.7MB/s eta 0:00:01\r\u001b[K     |██████████████████████████████▊ | 634kB 8.7MB/s eta 0:00:01\r\u001b[K     |███████████████████████████████▎| 645kB 8.7MB/s eta 0:00:01\r\u001b[K     |███████████████████████████████▊| 655kB 8.7MB/s eta 0:00:01\r\u001b[K     |████████████████████████████████| 665kB 8.7MB/s \n",
            "\u001b[?25hRequirement already satisfied: tqdm>=4.27 in /usr/local/lib/python3.6/dist-packages (from transformers==2.10) (4.41.1)\n",
            "Collecting sentencepiece\n",
            "\u001b[?25l  Downloading https://files.pythonhosted.org/packages/d4/a4/d0a884c4300004a78cca907a6ff9a5e9fe4f090f5d95ab341c53d28cbc58/sentencepiece-0.1.91-cp36-cp36m-manylinux1_x86_64.whl (1.1MB)\n",
            "\u001b[K     |████████████████████████████████| 1.1MB 24.6MB/s \n",
            "\u001b[?25hRequirement already satisfied: regex!=2019.12.17 in /usr/local/lib/python3.6/dist-packages (from transformers==2.10) (2019.12.20)\n",
            "Collecting sacremoses\n",
            "\u001b[?25l  Downloading https://files.pythonhosted.org/packages/7d/34/09d19aff26edcc8eb2a01bed8e98f13a1537005d31e95233fd48216eed10/sacremoses-0.0.43.tar.gz (883kB)\n",
            "\u001b[K     |████████████████████████████████| 890kB 46.5MB/s \n",
            "\u001b[?25hRequirement already satisfied: dataclasses; python_version < \"3.7\" in /usr/local/lib/python3.6/dist-packages (from transformers==2.10) (0.7)\n",
            "Requirement already satisfied: numpy in /usr/local/lib/python3.6/dist-packages (from transformers==2.10) (1.18.5)\n",
            "Collecting tokenizers==0.7.0\n",
            "\u001b[?25l  Downloading https://files.pythonhosted.org/packages/14/e5/a26eb4716523808bb0a799fcfdceb6ebf77a18169d9591b2f46a9adb87d9/tokenizers-0.7.0-cp36-cp36m-manylinux1_x86_64.whl (3.8MB)\n",
            "\u001b[K     |████████████████████████████████| 3.8MB 55.4MB/s \n",
            "\u001b[?25hRequirement already satisfied: requests in /usr/local/lib/python3.6/dist-packages (from transformers==2.10) (2.23.0)\n",
            "Requirement already satisfied: filelock in /usr/local/lib/python3.6/dist-packages (from transformers==2.10) (3.0.12)\n",
            "Requirement already satisfied: six in /usr/local/lib/python3.6/dist-packages (from sacremoses->transformers==2.10) (1.15.0)\n",
            "Requirement already satisfied: click in /usr/local/lib/python3.6/dist-packages (from sacremoses->transformers==2.10) (7.1.2)\n",
            "Requirement already satisfied: joblib in /usr/local/lib/python3.6/dist-packages (from sacremoses->transformers==2.10) (0.16.0)\n",
            "Requirement already satisfied: certifi>=2017.4.17 in /usr/local/lib/python3.6/dist-packages (from requests->transformers==2.10) (2020.6.20)\n",
            "Requirement already satisfied: idna<3,>=2.5 in /usr/local/lib/python3.6/dist-packages (from requests->transformers==2.10) (2.10)\n",
            "Requirement already satisfied: urllib3!=1.25.0,!=1.25.1,<1.26,>=1.21.1 in /usr/local/lib/python3.6/dist-packages (from requests->transformers==2.10) (1.24.3)\n",
            "Requirement already satisfied: chardet<4,>=3.0.2 in /usr/local/lib/python3.6/dist-packages (from requests->transformers==2.10) (3.0.4)\n",
            "Building wheels for collected packages: sacremoses\n",
            "  Building wheel for sacremoses (setup.py) ... \u001b[?25l\u001b[?25hdone\n",
            "  Created wheel for sacremoses: filename=sacremoses-0.0.43-cp36-none-any.whl size=893257 sha256=2bda6588dff91455ef6fc0126b403769599ffd79937de3c06ebb1628dfb73cad\n",
            "  Stored in directory: /root/.cache/pip/wheels/29/3c/fd/7ce5c3f0666dab31a50123635e6fb5e19ceb42ce38d4e58f45\n",
            "Successfully built sacremoses\n",
            "Installing collected packages: sentencepiece, sacremoses, tokenizers, transformers\n",
            "Successfully installed sacremoses-0.0.43 sentencepiece-0.1.91 tokenizers-0.7.0 transformers-2.10.0\n"
          ],
          "name": "stdout"
        }
      ]
    },
    {
      "cell_type": "code",
      "metadata": {
        "id": "4BOFHKC2-lDj"
      },
      "source": [
        "#%cd /content/drive/My Drive/group-5/Sarcasm/Dataset/sarcasm_v2_Oraby"
      ],
      "execution_count": null,
      "outputs": []
    },
    {
      "cell_type": "code",
      "metadata": {
        "id": "yUIc3OSKyM-M",
        "outputId": "f4048bca-adc5-4fa7-e0ca-5032b98b3e0a",
        "colab": {
          "base_uri": "https://localhost:8080/",
          "height": 1000
        }
      },
      "source": [
        "from transformers import BertForSequenceClassification, AdamW, BertConfig\n",
        "# load config\n",
        "# conf = BertConfig.from_pretrained('./sarcasm_discussion_bert_model/model_save', num_labels=2)\n",
        "# load a sequence model\n",
        "dir=\"/content/drive/My Drive/group-5/Sarcasm/Dataset/sarcasm_v2_Oraby/sarcasm_discussion_bert_model_2/model_save\"\n",
        "conf = BertConfig.from_pretrained(dir, num_labels=2)\n",
        "bsm = BertForSequenceClassification.from_pretrained(dir, config=conf)\n",
        "# get bert core model\n",
        "\n",
        "\n",
        "bsm.cuda()"
      ],
      "execution_count": 14,
      "outputs": [
        {
          "output_type": "execute_result",
          "data": {
            "text/plain": [
              "BertForSequenceClassification(\n",
              "  (bert): BertModel(\n",
              "    (embeddings): BertEmbeddings(\n",
              "      (word_embeddings): Embedding(28996, 768, padding_idx=0)\n",
              "      (position_embeddings): Embedding(512, 768)\n",
              "      (token_type_embeddings): Embedding(2, 768)\n",
              "      (LayerNorm): LayerNorm((768,), eps=1e-12, elementwise_affine=True)\n",
              "      (dropout): Dropout(p=0.1, inplace=False)\n",
              "    )\n",
              "    (encoder): BertEncoder(\n",
              "      (layer): ModuleList(\n",
              "        (0): BertLayer(\n",
              "          (attention): BertAttention(\n",
              "            (self): BertSelfAttention(\n",
              "              (query): Linear(in_features=768, out_features=768, bias=True)\n",
              "              (key): Linear(in_features=768, out_features=768, bias=True)\n",
              "              (value): Linear(in_features=768, out_features=768, bias=True)\n",
              "              (dropout): Dropout(p=0.1, inplace=False)\n",
              "            )\n",
              "            (output): BertSelfOutput(\n",
              "              (dense): Linear(in_features=768, out_features=768, bias=True)\n",
              "              (LayerNorm): LayerNorm((768,), eps=1e-12, elementwise_affine=True)\n",
              "              (dropout): Dropout(p=0.1, inplace=False)\n",
              "            )\n",
              "          )\n",
              "          (intermediate): BertIntermediate(\n",
              "            (dense): Linear(in_features=768, out_features=3072, bias=True)\n",
              "          )\n",
              "          (output): BertOutput(\n",
              "            (dense): Linear(in_features=3072, out_features=768, bias=True)\n",
              "            (LayerNorm): LayerNorm((768,), eps=1e-12, elementwise_affine=True)\n",
              "            (dropout): Dropout(p=0.1, inplace=False)\n",
              "          )\n",
              "        )\n",
              "        (1): BertLayer(\n",
              "          (attention): BertAttention(\n",
              "            (self): BertSelfAttention(\n",
              "              (query): Linear(in_features=768, out_features=768, bias=True)\n",
              "              (key): Linear(in_features=768, out_features=768, bias=True)\n",
              "              (value): Linear(in_features=768, out_features=768, bias=True)\n",
              "              (dropout): Dropout(p=0.1, inplace=False)\n",
              "            )\n",
              "            (output): BertSelfOutput(\n",
              "              (dense): Linear(in_features=768, out_features=768, bias=True)\n",
              "              (LayerNorm): LayerNorm((768,), eps=1e-12, elementwise_affine=True)\n",
              "              (dropout): Dropout(p=0.1, inplace=False)\n",
              "            )\n",
              "          )\n",
              "          (intermediate): BertIntermediate(\n",
              "            (dense): Linear(in_features=768, out_features=3072, bias=True)\n",
              "          )\n",
              "          (output): BertOutput(\n",
              "            (dense): Linear(in_features=3072, out_features=768, bias=True)\n",
              "            (LayerNorm): LayerNorm((768,), eps=1e-12, elementwise_affine=True)\n",
              "            (dropout): Dropout(p=0.1, inplace=False)\n",
              "          )\n",
              "        )\n",
              "        (2): BertLayer(\n",
              "          (attention): BertAttention(\n",
              "            (self): BertSelfAttention(\n",
              "              (query): Linear(in_features=768, out_features=768, bias=True)\n",
              "              (key): Linear(in_features=768, out_features=768, bias=True)\n",
              "              (value): Linear(in_features=768, out_features=768, bias=True)\n",
              "              (dropout): Dropout(p=0.1, inplace=False)\n",
              "            )\n",
              "            (output): BertSelfOutput(\n",
              "              (dense): Linear(in_features=768, out_features=768, bias=True)\n",
              "              (LayerNorm): LayerNorm((768,), eps=1e-12, elementwise_affine=True)\n",
              "              (dropout): Dropout(p=0.1, inplace=False)\n",
              "            )\n",
              "          )\n",
              "          (intermediate): BertIntermediate(\n",
              "            (dense): Linear(in_features=768, out_features=3072, bias=True)\n",
              "          )\n",
              "          (output): BertOutput(\n",
              "            (dense): Linear(in_features=3072, out_features=768, bias=True)\n",
              "            (LayerNorm): LayerNorm((768,), eps=1e-12, elementwise_affine=True)\n",
              "            (dropout): Dropout(p=0.1, inplace=False)\n",
              "          )\n",
              "        )\n",
              "        (3): BertLayer(\n",
              "          (attention): BertAttention(\n",
              "            (self): BertSelfAttention(\n",
              "              (query): Linear(in_features=768, out_features=768, bias=True)\n",
              "              (key): Linear(in_features=768, out_features=768, bias=True)\n",
              "              (value): Linear(in_features=768, out_features=768, bias=True)\n",
              "              (dropout): Dropout(p=0.1, inplace=False)\n",
              "            )\n",
              "            (output): BertSelfOutput(\n",
              "              (dense): Linear(in_features=768, out_features=768, bias=True)\n",
              "              (LayerNorm): LayerNorm((768,), eps=1e-12, elementwise_affine=True)\n",
              "              (dropout): Dropout(p=0.1, inplace=False)\n",
              "            )\n",
              "          )\n",
              "          (intermediate): BertIntermediate(\n",
              "            (dense): Linear(in_features=768, out_features=3072, bias=True)\n",
              "          )\n",
              "          (output): BertOutput(\n",
              "            (dense): Linear(in_features=3072, out_features=768, bias=True)\n",
              "            (LayerNorm): LayerNorm((768,), eps=1e-12, elementwise_affine=True)\n",
              "            (dropout): Dropout(p=0.1, inplace=False)\n",
              "          )\n",
              "        )\n",
              "        (4): BertLayer(\n",
              "          (attention): BertAttention(\n",
              "            (self): BertSelfAttention(\n",
              "              (query): Linear(in_features=768, out_features=768, bias=True)\n",
              "              (key): Linear(in_features=768, out_features=768, bias=True)\n",
              "              (value): Linear(in_features=768, out_features=768, bias=True)\n",
              "              (dropout): Dropout(p=0.1, inplace=False)\n",
              "            )\n",
              "            (output): BertSelfOutput(\n",
              "              (dense): Linear(in_features=768, out_features=768, bias=True)\n",
              "              (LayerNorm): LayerNorm((768,), eps=1e-12, elementwise_affine=True)\n",
              "              (dropout): Dropout(p=0.1, inplace=False)\n",
              "            )\n",
              "          )\n",
              "          (intermediate): BertIntermediate(\n",
              "            (dense): Linear(in_features=768, out_features=3072, bias=True)\n",
              "          )\n",
              "          (output): BertOutput(\n",
              "            (dense): Linear(in_features=3072, out_features=768, bias=True)\n",
              "            (LayerNorm): LayerNorm((768,), eps=1e-12, elementwise_affine=True)\n",
              "            (dropout): Dropout(p=0.1, inplace=False)\n",
              "          )\n",
              "        )\n",
              "        (5): BertLayer(\n",
              "          (attention): BertAttention(\n",
              "            (self): BertSelfAttention(\n",
              "              (query): Linear(in_features=768, out_features=768, bias=True)\n",
              "              (key): Linear(in_features=768, out_features=768, bias=True)\n",
              "              (value): Linear(in_features=768, out_features=768, bias=True)\n",
              "              (dropout): Dropout(p=0.1, inplace=False)\n",
              "            )\n",
              "            (output): BertSelfOutput(\n",
              "              (dense): Linear(in_features=768, out_features=768, bias=True)\n",
              "              (LayerNorm): LayerNorm((768,), eps=1e-12, elementwise_affine=True)\n",
              "              (dropout): Dropout(p=0.1, inplace=False)\n",
              "            )\n",
              "          )\n",
              "          (intermediate): BertIntermediate(\n",
              "            (dense): Linear(in_features=768, out_features=3072, bias=True)\n",
              "          )\n",
              "          (output): BertOutput(\n",
              "            (dense): Linear(in_features=3072, out_features=768, bias=True)\n",
              "            (LayerNorm): LayerNorm((768,), eps=1e-12, elementwise_affine=True)\n",
              "            (dropout): Dropout(p=0.1, inplace=False)\n",
              "          )\n",
              "        )\n",
              "        (6): BertLayer(\n",
              "          (attention): BertAttention(\n",
              "            (self): BertSelfAttention(\n",
              "              (query): Linear(in_features=768, out_features=768, bias=True)\n",
              "              (key): Linear(in_features=768, out_features=768, bias=True)\n",
              "              (value): Linear(in_features=768, out_features=768, bias=True)\n",
              "              (dropout): Dropout(p=0.1, inplace=False)\n",
              "            )\n",
              "            (output): BertSelfOutput(\n",
              "              (dense): Linear(in_features=768, out_features=768, bias=True)\n",
              "              (LayerNorm): LayerNorm((768,), eps=1e-12, elementwise_affine=True)\n",
              "              (dropout): Dropout(p=0.1, inplace=False)\n",
              "            )\n",
              "          )\n",
              "          (intermediate): BertIntermediate(\n",
              "            (dense): Linear(in_features=768, out_features=3072, bias=True)\n",
              "          )\n",
              "          (output): BertOutput(\n",
              "            (dense): Linear(in_features=3072, out_features=768, bias=True)\n",
              "            (LayerNorm): LayerNorm((768,), eps=1e-12, elementwise_affine=True)\n",
              "            (dropout): Dropout(p=0.1, inplace=False)\n",
              "          )\n",
              "        )\n",
              "        (7): BertLayer(\n",
              "          (attention): BertAttention(\n",
              "            (self): BertSelfAttention(\n",
              "              (query): Linear(in_features=768, out_features=768, bias=True)\n",
              "              (key): Linear(in_features=768, out_features=768, bias=True)\n",
              "              (value): Linear(in_features=768, out_features=768, bias=True)\n",
              "              (dropout): Dropout(p=0.1, inplace=False)\n",
              "            )\n",
              "            (output): BertSelfOutput(\n",
              "              (dense): Linear(in_features=768, out_features=768, bias=True)\n",
              "              (LayerNorm): LayerNorm((768,), eps=1e-12, elementwise_affine=True)\n",
              "              (dropout): Dropout(p=0.1, inplace=False)\n",
              "            )\n",
              "          )\n",
              "          (intermediate): BertIntermediate(\n",
              "            (dense): Linear(in_features=768, out_features=3072, bias=True)\n",
              "          )\n",
              "          (output): BertOutput(\n",
              "            (dense): Linear(in_features=3072, out_features=768, bias=True)\n",
              "            (LayerNorm): LayerNorm((768,), eps=1e-12, elementwise_affine=True)\n",
              "            (dropout): Dropout(p=0.1, inplace=False)\n",
              "          )\n",
              "        )\n",
              "        (8): BertLayer(\n",
              "          (attention): BertAttention(\n",
              "            (self): BertSelfAttention(\n",
              "              (query): Linear(in_features=768, out_features=768, bias=True)\n",
              "              (key): Linear(in_features=768, out_features=768, bias=True)\n",
              "              (value): Linear(in_features=768, out_features=768, bias=True)\n",
              "              (dropout): Dropout(p=0.1, inplace=False)\n",
              "            )\n",
              "            (output): BertSelfOutput(\n",
              "              (dense): Linear(in_features=768, out_features=768, bias=True)\n",
              "              (LayerNorm): LayerNorm((768,), eps=1e-12, elementwise_affine=True)\n",
              "              (dropout): Dropout(p=0.1, inplace=False)\n",
              "            )\n",
              "          )\n",
              "          (intermediate): BertIntermediate(\n",
              "            (dense): Linear(in_features=768, out_features=3072, bias=True)\n",
              "          )\n",
              "          (output): BertOutput(\n",
              "            (dense): Linear(in_features=3072, out_features=768, bias=True)\n",
              "            (LayerNorm): LayerNorm((768,), eps=1e-12, elementwise_affine=True)\n",
              "            (dropout): Dropout(p=0.1, inplace=False)\n",
              "          )\n",
              "        )\n",
              "        (9): BertLayer(\n",
              "          (attention): BertAttention(\n",
              "            (self): BertSelfAttention(\n",
              "              (query): Linear(in_features=768, out_features=768, bias=True)\n",
              "              (key): Linear(in_features=768, out_features=768, bias=True)\n",
              "              (value): Linear(in_features=768, out_features=768, bias=True)\n",
              "              (dropout): Dropout(p=0.1, inplace=False)\n",
              "            )\n",
              "            (output): BertSelfOutput(\n",
              "              (dense): Linear(in_features=768, out_features=768, bias=True)\n",
              "              (LayerNorm): LayerNorm((768,), eps=1e-12, elementwise_affine=True)\n",
              "              (dropout): Dropout(p=0.1, inplace=False)\n",
              "            )\n",
              "          )\n",
              "          (intermediate): BertIntermediate(\n",
              "            (dense): Linear(in_features=768, out_features=3072, bias=True)\n",
              "          )\n",
              "          (output): BertOutput(\n",
              "            (dense): Linear(in_features=3072, out_features=768, bias=True)\n",
              "            (LayerNorm): LayerNorm((768,), eps=1e-12, elementwise_affine=True)\n",
              "            (dropout): Dropout(p=0.1, inplace=False)\n",
              "          )\n",
              "        )\n",
              "        (10): BertLayer(\n",
              "          (attention): BertAttention(\n",
              "            (self): BertSelfAttention(\n",
              "              (query): Linear(in_features=768, out_features=768, bias=True)\n",
              "              (key): Linear(in_features=768, out_features=768, bias=True)\n",
              "              (value): Linear(in_features=768, out_features=768, bias=True)\n",
              "              (dropout): Dropout(p=0.1, inplace=False)\n",
              "            )\n",
              "            (output): BertSelfOutput(\n",
              "              (dense): Linear(in_features=768, out_features=768, bias=True)\n",
              "              (LayerNorm): LayerNorm((768,), eps=1e-12, elementwise_affine=True)\n",
              "              (dropout): Dropout(p=0.1, inplace=False)\n",
              "            )\n",
              "          )\n",
              "          (intermediate): BertIntermediate(\n",
              "            (dense): Linear(in_features=768, out_features=3072, bias=True)\n",
              "          )\n",
              "          (output): BertOutput(\n",
              "            (dense): Linear(in_features=3072, out_features=768, bias=True)\n",
              "            (LayerNorm): LayerNorm((768,), eps=1e-12, elementwise_affine=True)\n",
              "            (dropout): Dropout(p=0.1, inplace=False)\n",
              "          )\n",
              "        )\n",
              "        (11): BertLayer(\n",
              "          (attention): BertAttention(\n",
              "            (self): BertSelfAttention(\n",
              "              (query): Linear(in_features=768, out_features=768, bias=True)\n",
              "              (key): Linear(in_features=768, out_features=768, bias=True)\n",
              "              (value): Linear(in_features=768, out_features=768, bias=True)\n",
              "              (dropout): Dropout(p=0.1, inplace=False)\n",
              "            )\n",
              "            (output): BertSelfOutput(\n",
              "              (dense): Linear(in_features=768, out_features=768, bias=True)\n",
              "              (LayerNorm): LayerNorm((768,), eps=1e-12, elementwise_affine=True)\n",
              "              (dropout): Dropout(p=0.1, inplace=False)\n",
              "            )\n",
              "          )\n",
              "          (intermediate): BertIntermediate(\n",
              "            (dense): Linear(in_features=768, out_features=3072, bias=True)\n",
              "          )\n",
              "          (output): BertOutput(\n",
              "            (dense): Linear(in_features=3072, out_features=768, bias=True)\n",
              "            (LayerNorm): LayerNorm((768,), eps=1e-12, elementwise_affine=True)\n",
              "            (dropout): Dropout(p=0.1, inplace=False)\n",
              "          )\n",
              "        )\n",
              "      )\n",
              "    )\n",
              "    (pooler): BertPooler(\n",
              "      (dense): Linear(in_features=768, out_features=768, bias=True)\n",
              "      (activation): Tanh()\n",
              "    )\n",
              "  )\n",
              "  (dropout): Dropout(p=0.1, inplace=False)\n",
              "  (classifier): Linear(in_features=768, out_features=2, bias=True)\n",
              ")"
            ]
          },
          "metadata": {
            "tags": []
          },
          "execution_count": 14
        }
      ]
    },
    {
      "cell_type": "code",
      "metadata": {
        "id": "49aMlKHSYZ12"
      },
      "source": [
        "from sklearn.model_selection import train_test_split\n",
        "\n",
        "train_data, test_data = train_test_split(Data, test_size=0.2)"
      ],
      "execution_count": 39,
      "outputs": []
    },
    {
      "cell_type": "code",
      "metadata": {
        "id": "eSQo7rQbYdw_",
        "outputId": "ceb9faf7-9bf0-47a2-c218-93911ed0fb5e",
        "colab": {
          "base_uri": "https://localhost:8080/",
          "height": 306
        }
      },
      "source": [
        "test_data.info()"
      ],
      "execution_count": 40,
      "outputs": [
        {
          "output_type": "stream",
          "text": [
            "<class 'pandas.core.frame.DataFrame'>\n",
            "Int64Index: 202166 entries, 723977 to 86170\n",
            "Data columns (total 10 columns):\n",
            " #   Column          Non-Null Count   Dtype \n",
            "---  ------          --------------   ----- \n",
            " 0   label           202166 non-null  int64 \n",
            " 1   comment         202166 non-null  object\n",
            " 2   author          202166 non-null  object\n",
            " 3   subreddit       202166 non-null  object\n",
            " 4   score           202166 non-null  int64 \n",
            " 5   ups             202166 non-null  int64 \n",
            " 6   downs           202166 non-null  int64 \n",
            " 7   date            202166 non-null  object\n",
            " 8   created_utc     202166 non-null  object\n",
            " 9   parent_comment  202166 non-null  object\n",
            "dtypes: int64(4), object(6)\n",
            "memory usage: 17.0+ MB\n"
          ],
          "name": "stdout"
        }
      ]
    },
    {
      "cell_type": "code",
      "metadata": {
        "id": "1GZv9apiYi4M",
        "outputId": "0dcfc8ad-101f-4d86-9f11-20380803dc88",
        "colab": {
          "base_uri": "https://localhost:8080/",
          "height": 419
        }
      },
      "source": [
        "test_data"
      ],
      "execution_count": 41,
      "outputs": [
        {
          "output_type": "execute_result",
          "data": {
            "text/html": [
              "<div>\n",
              "<style scoped>\n",
              "    .dataframe tbody tr th:only-of-type {\n",
              "        vertical-align: middle;\n",
              "    }\n",
              "\n",
              "    .dataframe tbody tr th {\n",
              "        vertical-align: top;\n",
              "    }\n",
              "\n",
              "    .dataframe thead th {\n",
              "        text-align: right;\n",
              "    }\n",
              "</style>\n",
              "<table border=\"1\" class=\"dataframe\">\n",
              "  <thead>\n",
              "    <tr style=\"text-align: right;\">\n",
              "      <th></th>\n",
              "      <th>label</th>\n",
              "      <th>comment</th>\n",
              "      <th>author</th>\n",
              "      <th>subreddit</th>\n",
              "      <th>score</th>\n",
              "      <th>ups</th>\n",
              "      <th>downs</th>\n",
              "      <th>date</th>\n",
              "      <th>created_utc</th>\n",
              "      <th>parent_comment</th>\n",
              "    </tr>\n",
              "  </thead>\n",
              "  <tbody>\n",
              "    <tr>\n",
              "      <th>723977</th>\n",
              "      <td>0</td>\n",
              "      <td>Maybe take your own advice slick.</td>\n",
              "      <td>SwoleNole</td>\n",
              "      <td>baseball</td>\n",
              "      <td>-1</td>\n",
              "      <td>-1</td>\n",
              "      <td>0</td>\n",
              "      <td>2015-04</td>\n",
              "      <td>2015-04-13 13:17:42</td>\n",
              "      <td>Be that as it may, they were a playoff team la...</td>\n",
              "    </tr>\n",
              "    <tr>\n",
              "      <th>27054</th>\n",
              "      <td>0</td>\n",
              "      <td>Jaroslaw Kaczynski is retarded!</td>\n",
              "      <td>sixgears</td>\n",
              "      <td>worldnews</td>\n",
              "      <td>6</td>\n",
              "      <td>-1</td>\n",
              "      <td>-1</td>\n",
              "      <td>2016-11</td>\n",
              "      <td>2016-11-14 19:16:32</td>\n",
              "      <td>Poland exhumes president, others killed in 201...</td>\n",
              "    </tr>\n",
              "    <tr>\n",
              "      <th>929143</th>\n",
              "      <td>0</td>\n",
              "      <td>It is though....</td>\n",
              "      <td>boilerrat</td>\n",
              "      <td>gaming</td>\n",
              "      <td>2</td>\n",
              "      <td>2</td>\n",
              "      <td>0</td>\n",
              "      <td>2012-05</td>\n",
              "      <td>2012-05-31 23:08:54</td>\n",
              "      <td>THATS SO NOSTALGIC!!</td>\n",
              "    </tr>\n",
              "    <tr>\n",
              "      <th>835037</th>\n",
              "      <td>0</td>\n",
              "      <td>I was just answering your question.</td>\n",
              "      <td>orangeslash</td>\n",
              "      <td>CFB</td>\n",
              "      <td>1</td>\n",
              "      <td>1</td>\n",
              "      <td>0</td>\n",
              "      <td>2013-11</td>\n",
              "      <td>2013-11-18 15:54:07</td>\n",
              "      <td>Still can't lead with the crown of your helmet...</td>\n",
              "    </tr>\n",
              "    <tr>\n",
              "      <th>370740</th>\n",
              "      <td>1</td>\n",
              "      <td>Yay, another two weeks of Combine 24/7..</td>\n",
              "      <td>ABrokenOven</td>\n",
              "      <td>blackops3</td>\n",
              "      <td>0</td>\n",
              "      <td>0</td>\n",
              "      <td>0</td>\n",
              "      <td>2016-02</td>\n",
              "      <td>2016-02-06 01:33:55</td>\n",
              "      <td>They said we'd get it in a week or two. Calm y...</td>\n",
              "    </tr>\n",
              "    <tr>\n",
              "      <th>...</th>\n",
              "      <td>...</td>\n",
              "      <td>...</td>\n",
              "      <td>...</td>\n",
              "      <td>...</td>\n",
              "      <td>...</td>\n",
              "      <td>...</td>\n",
              "      <td>...</td>\n",
              "      <td>...</td>\n",
              "      <td>...</td>\n",
              "      <td>...</td>\n",
              "    </tr>\n",
              "    <tr>\n",
              "      <th>329487</th>\n",
              "      <td>1</td>\n",
              "      <td>Yeah cause sci-fi movies with female leads are...</td>\n",
              "      <td>BurgerLaowai</td>\n",
              "      <td>TumblrInAction</td>\n",
              "      <td>1</td>\n",
              "      <td>1</td>\n",
              "      <td>0</td>\n",
              "      <td>2016-08</td>\n",
              "      <td>2016-08-30 18:02:15</td>\n",
              "      <td>Single greatest meme in the history of man</td>\n",
              "    </tr>\n",
              "    <tr>\n",
              "      <th>611332</th>\n",
              "      <td>0</td>\n",
              "      <td>Yeah cause who needs science and research right?</td>\n",
              "      <td>onepennytoomany</td>\n",
              "      <td>worldnews</td>\n",
              "      <td>-1</td>\n",
              "      <td>-1</td>\n",
              "      <td>0</td>\n",
              "      <td>2015-08</td>\n",
              "      <td>2015-08-23 15:46:25</td>\n",
              "      <td>Thousands of prehistoric mammoth tusks are bei...</td>\n",
              "    </tr>\n",
              "    <tr>\n",
              "      <th>810472</th>\n",
              "      <td>1</td>\n",
              "      <td>Much better if you continue to think they are ...</td>\n",
              "      <td>OmniStardust</td>\n",
              "      <td>PoliticalDiscussion</td>\n",
              "      <td>-2</td>\n",
              "      <td>-2</td>\n",
              "      <td>0</td>\n",
              "      <td>2013-11</td>\n",
              "      <td>2013-11-26 18:50:00</td>\n",
              "      <td>If I thought rich people were hoarding MY mone...</td>\n",
              "    </tr>\n",
              "    <tr>\n",
              "      <th>21260</th>\n",
              "      <td>0</td>\n",
              "      <td>beautiful</td>\n",
              "      <td>RecklessBasterd</td>\n",
              "      <td>Dodgers</td>\n",
              "      <td>6</td>\n",
              "      <td>-1</td>\n",
              "      <td>-1</td>\n",
              "      <td>2016-10</td>\n",
              "      <td>2016-10-14 02:42:42</td>\n",
              "      <td>Joc Pederson GONE</td>\n",
              "    </tr>\n",
              "    <tr>\n",
              "      <th>86170</th>\n",
              "      <td>1</td>\n",
              "      <td>Isn't that how Trump is gonna build the wall?</td>\n",
              "      <td>danielhickman</td>\n",
              "      <td>funny</td>\n",
              "      <td>1</td>\n",
              "      <td>-1</td>\n",
              "      <td>-1</td>\n",
              "      <td>2016-11</td>\n",
              "      <td>2016-11-23 00:28:05</td>\n",
              "      <td>It offers to convert into other currancies, su...</td>\n",
              "    </tr>\n",
              "  </tbody>\n",
              "</table>\n",
              "<p>202166 rows × 10 columns</p>\n",
              "</div>"
            ],
            "text/plain": [
              "        label  ...                                     parent_comment\n",
              "723977      0  ...  Be that as it may, they were a playoff team la...\n",
              "27054       0  ...  Poland exhumes president, others killed in 201...\n",
              "929143      0  ...                               THATS SO NOSTALGIC!!\n",
              "835037      0  ...  Still can't lead with the crown of your helmet...\n",
              "370740      1  ...  They said we'd get it in a week or two. Calm y...\n",
              "...       ...  ...                                                ...\n",
              "329487      1  ...         Single greatest meme in the history of man\n",
              "611332      0  ...  Thousands of prehistoric mammoth tusks are bei...\n",
              "810472      1  ...  If I thought rich people were hoarding MY mone...\n",
              "21260       0  ...                                  Joc Pederson GONE\n",
              "86170       1  ...  It offers to convert into other currancies, su...\n",
              "\n",
              "[202166 rows x 10 columns]"
            ]
          },
          "metadata": {
            "tags": []
          },
          "execution_count": 41
        }
      ]
    },
    {
      "cell_type": "code",
      "metadata": {
        "id": "7JVWS_9csm37"
      },
      "source": [
        "#dqube_test = pd.read_csv(\"/content/drive/My Drive/group-5/DQUBE_Processed.csv\",index_col=None)\n",
        "#dqube_test = dqube_test.iloc[:,[11,13]]\n",
        "#dqube_test.rename(columns={ dqube_test.columns[0]: \"sentence\", dqube_test.columns[1]: \"label\" }, inplace = True)\n",
        "#dqube_test.head()"
      ],
      "execution_count": null,
      "outputs": []
    },
    {
      "cell_type": "code",
      "metadata": {
        "id": "dHCqMQHSRb56"
      },
      "source": [
        "#%cd sarcasm_v2_Oraby"
      ],
      "execution_count": null,
      "outputs": []
    },
    {
      "cell_type": "code",
      "metadata": {
        "id": "WDgSsvYQRdsW"
      },
      "source": [
        "#test_data =pd.read_csv(\"GEN-sarc-notsarc.csv\")"
      ],
      "execution_count": null,
      "outputs": []
    },
    {
      "cell_type": "code",
      "metadata": {
        "id": "DErbJEkPRhzN"
      },
      "source": [
        "#test_data[\"class\"].value_counts()"
      ],
      "execution_count": null,
      "outputs": []
    },
    {
      "cell_type": "code",
      "metadata": {
        "id": "axNgMzxJSb-o"
      },
      "source": [
        "#test_data[\"class\"]=test_data[\"class\"].astype(str)\n",
        "\n",
        "#sarcasm = {'sarc': 1,'notsarc': 0} \n",
        "\n",
        "\n",
        "#test_data[\"class\"] = [sarcasm[item] for item in test_data[\"class\"]] "
      ],
      "execution_count": null,
      "outputs": []
    },
    {
      "cell_type": "code",
      "metadata": {
        "id": "eRkxgWX4SwbH"
      },
      "source": [
        "# valid_label=test_data[\"class\"]\n",
        "# Text=test_data[\"text\"]"
      ],
      "execution_count": null,
      "outputs": []
    },
    {
      "cell_type": "code",
      "metadata": {
        "id": "GlsMQBloYJqb"
      },
      "source": [
        "MAX_SEQ_LENGTH =500\n",
        "TRAIN_BATCH_SIZE =16\n",
        "NUM_TRAIN_EPOCHS = 3\n",
        "\n",
        "EVAL_BATCH_SIZE = 8\n",
        "LEARNING_RATE = 5e-5\n"
      ],
      "execution_count": 42,
      "outputs": []
    },
    {
      "cell_type": "code",
      "metadata": {
        "id": "mAN0LZBOOPVh"
      },
      "source": [
        "from transformers import BertTokenizer\n",
        "from keras.preprocessing.sequence import pad_sequences\n",
        "from torch.utils.data import TensorDataset, DataLoader, RandomSampler, SequentialSampler\n",
        "\n",
        "\n",
        "\n",
        "\n",
        "tokenizer = BertTokenizer.from_pretrained(dir)\n",
        "\n",
        "\n",
        "# Report the number of sentences.\n",
        "# print('Number of test examples: {}'.format(len(dqube_test)))\n",
        "\n",
        "# Create sentence and label lists\n",
        "test = test_data.comment.values\n",
        "labels = test_data.label.values\n",
        "\n",
        "# Tokenize all of the sentences and map the tokens to thier word IDs.\n",
        "input_ids = []\n",
        "attention_masks = []\n",
        "\n",
        "# For every sentence...\n",
        "for sent in test:\n",
        "    # `encode_plus` will:\n",
        "    #   (1) Tokenize the sentence.\n",
        "    #   (2) Prepend the `[CLS]` token to the start.\n",
        "    #   (3) Append the `[SEP]` token to the end.\n",
        "    #   (4) Map tokens to their IDs.\n",
        "    #   (5) Pad or truncate the sentence to `max_length`\n",
        "    #   (6) Create attention masks for [PAD] tokens.\n",
        "    #print(sent)\n",
        "    encoded_dict = tokenizer.encode_plus(\n",
        "                        sent,                      # Sentence to encode.\n",
        "                        add_special_tokens = True, # Add '[CLS]' and '[SEP]'\n",
        "                        max_length = MAX_SEQ_LENGTH,           # Pad & truncate all sentences.\n",
        "                        pad_to_max_length = True,\n",
        "                        return_attention_mask = True,   # Construct attn. masks.\n",
        "                        return_tensors = 'pt',     # Return pytorch tensors.\n",
        "                   )\n",
        "    \n",
        "    # Add the encoded sentence to the list.    \n",
        "    input_ids.append(encoded_dict['input_ids'])\n",
        "    \n",
        "    # And its attention mask (simply differentiates padding from non-padding).\n",
        "    attention_masks.append(encoded_dict['attention_mask'])\n",
        "\n",
        "# Convert the lists into tensors.\n",
        "input_ids = torch.cat(input_ids, dim=0)\n",
        "attention_masks = torch.cat(attention_masks, dim=0)\n",
        "labels = torch.tensor(labels)\n",
        "\n",
        "# Set the batch size.  \n",
        "batch_size = 8 \n",
        "\n",
        "\n",
        "# Create the DataLoader.\n",
        "prediction_data = TensorDataset(input_ids, attention_masks, labels)\n",
        "prediction_sampler = SequentialSampler(prediction_data)\n",
        "prediction_dataloader = DataLoader(prediction_data, sampler=prediction_sampler, batch_size=batch_size)"
      ],
      "execution_count": 43,
      "outputs": []
    },
    {
      "cell_type": "code",
      "metadata": {
        "id": "IYoA1l2F8C6T",
        "outputId": "c0e1e41f-5dbe-4cc1-b689-a5aa39728311",
        "colab": {
          "base_uri": "https://localhost:8080/",
          "height": 51
        }
      },
      "source": [
        "# Prediction on test set\n",
        "import torch.nn.functional as F \n",
        "print('Predicting labels for {:,} test sentences...'.format(len(input_ids)))\n",
        "\n",
        "# Put model in evaluation mode\n",
        "bsm.eval()\n",
        "\n",
        "# Tracking variables \n",
        "predictions , true_labels = [], []\n",
        "\n",
        "# Predict \n",
        "for batch in prediction_dataloader:\n",
        "  # Add batch to GPU\n",
        "  batch = tuple(t.to(device) for t in batch)\n",
        "  # Unpack the inputs from our dataloader\n",
        "  b_input_ids, b_input_mask, b_labels = batch\n",
        "  \n",
        "  # Telling the model not to compute or store gradients, saving memory and \n",
        "  # speeding up prediction\n",
        "  with torch.no_grad():\n",
        "      # Forward pass, calculate logit predictions\n",
        "      outputs = bsm(b_input_ids, attention_mask=b_input_mask)\n",
        "              \n",
        "        \n",
        "  logits = outputs[0]\n",
        "  # Move logits and labels to CPU\n",
        "  logits = logits.detach().cpu().numpy()\n",
        "  label_ids = b_labels.to('cpu').numpy()\n",
        "  # Store predictions and true labels\n",
        "  # Concatenate logits from each batch\n",
        "  all_logits = torch.cat(outputs, dim=0)\n",
        "\n",
        "  # Apply softmax to calculate probabilities\n",
        "  probs = F.softmax(all_logits, dim=1).cpu().numpy()\n",
        "  predictions.append(logits)\n",
        "  true_labels.append(label_ids)\n",
        "print('    DONE.')"
      ],
      "execution_count": 44,
      "outputs": [
        {
          "output_type": "stream",
          "text": [
            "Predicting labels for 202,166 test sentences...\n",
            "    DONE.\n"
          ],
          "name": "stdout"
        }
      ]
    },
    {
      "cell_type": "code",
      "metadata": {
        "id": "Tm8dS2Kb-tfh",
        "outputId": "0894a663-d92b-4dd9-e8bf-347f222af3d6",
        "colab": {
          "base_uri": "https://localhost:8080/",
          "height": 34
        }
      },
      "source": [
        "from sklearn.metrics import precision_recall_fscore_support\n",
        "from sklearn.metrics import f1_score,accuracy_score,average_precision_score,precision_score, recall_score\n",
        "import numpy as np\n",
        "flat_predictions = np.concatenate(predictions, axis=0)\n",
        "\n",
        "# For each sample, pick the label (0 or 1) with the higher score.\n",
        "flat_predictions = np.argmax(flat_predictions, axis=1).flatten()\n",
        "\n",
        "# Combine the correct labels for each batch into a single list.\n",
        "flat_true_labels = np.concatenate(true_labels, axis=0)\n",
        "\n",
        "print(\"F1 score: {}\".format(precision_recall_fscore_support(flat_predictions, flat_true_labels, average='macro')))"
      ],
      "execution_count": 45,
      "outputs": [
        {
          "output_type": "stream",
          "text": [
            "F1 score: (0.5463555069513808, 0.5557784489627531, 0.5258289441171211, None)\n"
          ],
          "name": "stdout"
        }
      ]
    },
    {
      "cell_type": "code",
      "metadata": {
        "id": "8FhXmlLpBg8a",
        "outputId": "3544917e-7d2a-4352-8886-47d65e1e7c92",
        "colab": {
          "base_uri": "https://localhost:8080/",
          "height": 34
        }
      },
      "source": [
        "from sklearn.metrics import accuracy_score\n",
        "print(\"Accuracy: {}\".format(accuracy_score(flat_predictions, flat_true_labels)))"
      ],
      "execution_count": 46,
      "outputs": [
        {
          "output_type": "stream",
          "text": [
            "Accuracy: 0.5454131753113778\n"
          ],
          "name": "stdout"
        }
      ]
    },
    {
      "cell_type": "code",
      "metadata": {
        "id": "ozbrXfO1BjI4",
        "outputId": "25e91b10-f200-4e3c-c78e-e937dbbb03ee",
        "colab": {
          "base_uri": "https://localhost:8080/",
          "height": 85
        }
      },
      "source": [
        "print(\"F1 score: {}\".format(f1_score(flat_predictions, flat_true_labels, average='macro')))\n",
        "average_precision = average_precision_score(flat_predictions.reshape((-1)), flat_true_labels.reshape((-1)))\n",
        "precision=precision_score(flat_predictions.reshape((-1)), flat_true_labels.reshape((-1)),average=\"macro\")\n",
        "recall=recall_score(flat_predictions.reshape((-1)), flat_true_labels.reshape((-1)),average=\"macro\")\n",
        "print('precision-score: {0:0.2f}'.format(precision))\n",
        "print('Recall-score: {0:0.2f}'.format(recall))\n",
        "print(\"Accuracy: {}\".format(accuracy_score(flat_predictions, flat_true_labels)))"
      ],
      "execution_count": 47,
      "outputs": [
        {
          "output_type": "stream",
          "text": [
            "F1 score: 0.5258289441171211\n",
            "precision-score: 0.55\n",
            "Recall-score: 0.56\n",
            "Accuracy: 0.5454131753113778\n"
          ],
          "name": "stdout"
        }
      ]
    },
    {
      "cell_type": "code",
      "metadata": {
        "id": "bztucxSsCx5a",
        "outputId": "151d825f-8eb9-47f6-b7bb-bdf2a8cbd269",
        "colab": {
          "base_uri": "https://localhost:8080/",
          "height": 51
        }
      },
      "source": [
        "from sklearn.metrics import confusion_matrix\n",
        "\n",
        "confusion_matrix(flat_true_labels,flat_predictions)"
      ],
      "execution_count": 48,
      "outputs": [
        {
          "output_type": "execute_result",
          "data": {
            "text/plain": [
              "array([[34589, 66957],\n",
              "       [24945, 75675]])"
            ]
          },
          "metadata": {
            "tags": []
          },
          "execution_count": 48
        }
      ]
    },
    {
      "cell_type": "code",
      "metadata": {
        "id": "DCYhGUFjF6Zs"
      },
      "source": [
        "import numpy as np\n",
        "\n",
        "# Combine the results across the batches.\n",
        "predictions = np.concatenate(predictions, axis=0)\n",
        "true_labels = np.concatenate(true_labels, axis=0)"
      ],
      "execution_count": 49,
      "outputs": []
    },
    {
      "cell_type": "code",
      "metadata": {
        "id": "Yb1UFU6KKtOS"
      },
      "source": [
        "from scipy.special import softmax\n",
        "# Our performance metric for the test set.\n",
        "from sklearn.metrics import accuracy_score, f1_score, recall_score, precision_score\n",
        "\n",
        "prediction_logit = np.argmax(softmax(predictions, axis=1),axis=1)\n",
        "result = softmax(predictions, axis=1)\n",
        "positive_prob = result[:,1]\n",
        "pred_label = [1 if i > 0.5 else 0 for i in positive_prob]"
      ],
      "execution_count": 50,
      "outputs": []
    },
    {
      "cell_type": "code",
      "metadata": {
        "id": "mUJbrhkQKzhC",
        "outputId": "bf4e7443-ee1d-4cba-e083-909121a6aa66",
        "colab": {
          "base_uri": "https://localhost:8080/",
          "height": 85
        }
      },
      "source": [
        "# Calculate the evaluation metrics accuracy, precision, recall and f1 score.\n",
        "accuracy = accuracy_score(true_labels, pred_label)\n",
        "print('Accuracy: ', accuracy)\n",
        "\n",
        "precision = precision_score(true_labels, pred_label)\n",
        "print(\"Precision: \", precision)\n",
        "\n",
        "recall = recall_score(true_labels, pred_label)\n",
        "print(\"Recall: \", recall)\n",
        "\n",
        "f1 = f1_score(true_labels, pred_label)\n",
        "print(\"F1 score: \", f1)"
      ],
      "execution_count": 51,
      "outputs": [
        {
          "output_type": "stream",
          "text": [
            "Accuracy:  0.5454131753113778\n",
            "Precision:  0.5305611643950866\n",
            "Recall:  0.7520870602265951\n",
            "F1 score:  0.6221942676730304\n"
          ],
          "name": "stdout"
        }
      ]
    },
    {
      "cell_type": "code",
      "metadata": {
        "id": "lUUGpkNtK28K",
        "outputId": "e18dc13b-3f24-4dba-fdd3-f5d6fae4d8fa",
        "colab": {
          "base_uri": "https://localhost:8080/",
          "height": 51
        }
      },
      "source": [
        "# Compute the confusion matrix\n",
        "from sklearn.metrics import confusion_matrix\n",
        "\n",
        "confusion_matrix(true_labels,pred_label)\n"
      ],
      "execution_count": 52,
      "outputs": [
        {
          "output_type": "execute_result",
          "data": {
            "text/plain": [
              "array([[34589, 66957],\n",
              "       [24945, 75675]])"
            ]
          },
          "metadata": {
            "tags": []
          },
          "execution_count": 52
        }
      ]
    },
    {
      "cell_type": "code",
      "metadata": {
        "id": "HXNkQHWkK7SC",
        "outputId": "6f8f8d1a-c12e-4406-c66d-f21bb5f30b5e",
        "colab": {
          "base_uri": "https://localhost:8080/",
          "height": 426
        }
      },
      "source": [
        "from sklearn.metrics import roc_curve, roc_auc_score\n",
        "fpr, tpr, thresholds = roc_curve(true_labels, positive_prob)\n",
        "\n",
        "def plot_roc_curve(fpr,tpr,label=None):\n",
        "  plt.plot(fpr,tpr,linewidth=1.5, label=label)\n",
        "  plt.plot([0,1],[0,1],'r--')\n",
        "  plt.axis([0, 1, 0, 1])                                    \n",
        "  plt.xlabel('False Positive Rate (Fall-Out)', fontsize=16) \n",
        "  plt.ylabel('True Positive Rate (Recall)', fontsize=16)    \n",
        "  plt.grid(True)  \n",
        "  plt.xlim([0, 1])\n",
        "  plt.ylim([0, 1])\n",
        "  plt.title('Receiver Operating Characteristic')                                        \n",
        "\n",
        "plt.figure(figsize=(8, 6))  \n",
        "                  \n",
        "plot_roc_curve(fpr, tpr)\n",
        "           \n",
        "                       \n",
        "plt.show()\n",
        "print(\"AUC:\" , roc_auc_score(true_labels,pred_label))"
      ],
      "execution_count": 53,
      "outputs": [
        {
          "output_type": "display_data",
          "data": {
            "image/png": "[encoded data removed]",
            "text/plain": [
              "<Figure size 576x432 with 1 Axes>"
            ]
          },
          "metadata": {
            "tags": [],
            "needs_background": "light"
          }
        },
        {
          "output_type": "stream",
          "text": [
            "AUC: 0.5463555069513808\n"
          ],
          "name": "stdout"
        }
      ]
    }
  ]
}